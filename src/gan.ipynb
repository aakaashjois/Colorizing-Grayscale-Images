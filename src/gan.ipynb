{
 "cells": [
  {
   "cell_type": "code",
   "execution_count": null,
   "metadata": {},
   "outputs": [],
   "source": [
    "import create_model\n",
    "import numpy as np\n",
    "import tensorflow as tf\n",
    "from PIL import Image\n",
    "from tqdm import tqdm\n",
    "from os import listdir\n",
    "import time"
   ]
  },
  {
   "cell_type": "code",
   "execution_count": null,
   "metadata": {},
   "outputs": [],
   "source": [
    "keras = tf.keras\n",
    "Model = keras.models.Model\n",
    "\n",
    "input_shape = (224, 224, 3)\n",
    "input_layer = create_model.get_input_layer(input_shape)\n",
    "g = create_model.get_generator_model(input_layer, input_shape)\n",
    "d = create_model.get_discriminator_model(input_shape)\n",
    "gan = create_model.get_gan_model(input_shape, g, d)"
   ]
  },
  {
   "cell_type": "code",
   "execution_count": null,
   "metadata": {},
   "outputs": [],
   "source": [
    "def wasserstein_loss(y_true, y_pred):\n",
    "    return keras.backend.mean(y_true * y_pred)\n",
    "\n",
    "def perceptual_loss(y_true, y_pred):\n",
    "    vgg16 = create_model.get_vgg16_model(input_shape)\n",
    "    loss_model = Model(inputs=vgg16.input, outputs=vgg16.get_layer('block3_conv3').output)\n",
    "    loss_model.trainable = False\n",
    "    return keras.backend.mean(keras.backend.square(loss_model(y_true) - loss_model(y_pred)))"
   ]
  },
  {
   "cell_type": "code",
   "execution_count": null,
   "metadata": {},
   "outputs": [],
   "source": [
    "d.trainable = True\n",
    "d.compile(optimizer='adam', loss=wasserstein_loss)\n",
    "d.trainable = False\n",
    "gan.compile(optimizer='adam', loss=[perceptual_loss, wasserstein_loss], loss_weights=[100, 1])\n",
    "d.trainable = True"
   ]
  },
  {
   "cell_type": "code",
   "execution_count": null,
   "metadata": {},
   "outputs": [],
   "source": [
    "gan.summary()"
   ]
  },
  {
   "cell_type": "code",
   "execution_count": null,
   "metadata": {},
   "outputs": [],
   "source": [
    "train_paths = np.array(listdir('../data/train/'))\n",
    "_ = ['../data/train/'] * len(train_paths)\n",
    "train_paths = np.core.defchararray.add(_,  train_paths)\n",
    "\n",
    "# test_paths = listdir('../data/test/')\n",
    "# _ = ['../data/test/'] * len(test_paths)\n",
    "# test_paths = np.core.defchararray.add(_,  test_paths)\n",
    "\n",
    "# validation_paths = listdir('../data/validation/')\n",
    "# _ = ['../data/validation/'] * len(validation_paths)\n",
    "# validation_paths = np.core.defchararray.add(_,  validation_paths)"
   ]
  },
  {
   "cell_type": "code",
   "execution_count": null,
   "metadata": {},
   "outputs": [],
   "source": [
    "start = time.time()\n",
    "x_train = []\n",
    "x_train_noise = []\n",
    "for i in tqdm(train_paths):\n",
    "    with Image.open(i) as img:\n",
    "        img_np = np.array(img)\n",
    "        img_np_noise = np.copy(img_np)\n",
    "        if len(img_np.shape) == 3:\n",
    "            img_np_noise[:,:,1] = np.random.random(img_np.shape[:2])\n",
    "            img_np_noise[:,:,2] = np.random.random(img_np.shape[:2])\n",
    "\n",
    "            x_train.append(img_np)\n",
    "            x_train_noise.append(img_np_noise)\n",
    "\n",
    "stop = time.time()\n",
    "print(stop - start)\n",
    "\n",
    "x_train = np.array(x_train)\n",
    "x_train_noise = np.array(x_train_noise)"
   ]
  },
  {
   "cell_type": "code",
   "execution_count": null,
   "metadata": {},
   "outputs": [],
   "source": [
    "epochs = 100\n",
    "steps = 1850\n",
    "batch_size = 64\n",
    "batch_start_index = 0\n",
    "\n",
    "for e in tqdm(range(epochs)):\n",
    "    # Seed the generator to shuffle ground truth and noise in the same manner\n",
    "    # Shuffle once per epoch\n",
    "    seed = np.random.randint(10e5)\n",
    "    np.random.seed(seed)\n",
    "    np.random.shuffle(x_train)\n",
    "    np.random.seed(seed)\n",
    "    np.random.shuffle(x_train_noise)\n",
    "    \n",
    "    d_losses = []\n",
    "    gan_losses = []\n",
    "    \n",
    "    for s in range(steps):\n",
    "        # Seed the generator to randomly pick ground truth and noise in the same manner\n",
    "        seed = np.random.randint(10e5)\n",
    "        np.random.seed(seed)\n",
    "        x_train_batch = x_train[np.random.choice(len(x_train), size=batch_size)]\n",
    "        np.random.seed(seed)\n",
    "        x_train_noise_batch = x_train_noise[np.random.choice(len(x_train_noise), batch_size)]\n",
    "        np.random.seed()\n",
    "        \n",
    "        # Get fake color predictions from generator\n",
    "        g_pred = g.predict(x_train_batch, batch_size=batch_size)\n",
    "        \n",
    "        for _ in range(5):\n",
    "            # Real and fake labels\n",
    "            y_train_true = np.ones(batch_size)\n",
    "            y_train_fake = np.zeros(batch_size)\n",
    "            \n",
    "            # Real and fake losses; train discriminator on ground truth-true labels and noise-fake labels\n",
    "            d_loss_true = d.train_on_batch(x_train_batch, y_train_true)\n",
    "            d_loss_fake = d.train_on_batch(g_pred, y_train_fake)\n",
    "            d_losses.append(0.5 * (d_loss_true + d_loss_fake))\n",
    "        \n",
    "        print('Epoch {} batch {} d_loss {}'.format(e, s, np.mean(d_losses)))\n",
    "        \n",
    "        # Freeze discriminator because we want to train the GAN as a whole\n",
    "        d.trainable = False\n",
    "        \n",
    "        # Train GAN so that the generator learns to generate better colors\n",
    "        gan_loss = gan.train_on_batch(x_train_noise_batch, [x_train_batch, y_true_train])\n",
    "        gan_losses.append(gan_loss)\n",
    "        \n",
    "        print('Epoch {} batch {} gan_loss {}'.format(e, s, np.mean(gan_losses)))\n",
    "        \n",
    "        # Un-freeze discriminator\n",
    "        d.trainable = True\n",
    "        "
   ]
  },
  {
   "cell_type": "code",
   "execution_count": null,
   "metadata": {},
   "outputs": [],
   "source": [
    "np.random.choice(5, 5)"
   ]
  },
  {
   "cell_type": "code",
   "execution_count": null,
   "metadata": {},
   "outputs": [],
   "source": []
  }
 ],
 "metadata": {
  "kernelspec": {
   "display_name": "Python 3",
   "language": "python",
   "name": "python3"
  },
  "language_info": {
   "codemirror_mode": {
    "name": "ipython",
    "version": 3
   },
   "file_extension": ".py",
   "mimetype": "text/x-python",
   "name": "python",
   "nbconvert_exporter": "python",
   "pygments_lexer": "ipython3",
   "version": "3.6.2"
  }
 },
 "nbformat": 4,
 "nbformat_minor": 2
}
