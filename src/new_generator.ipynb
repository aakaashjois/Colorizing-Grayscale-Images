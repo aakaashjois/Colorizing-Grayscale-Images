{
 "cells": [
  {
   "cell_type": "code",
   "execution_count": 1,
   "metadata": {},
   "outputs": [
    {
     "name": "stderr",
     "output_type": "stream",
     "text": [
      "c:\\users\\aakaas~1\\virtua~1\\ufacgi~1\\lib\\site-packages\\h5py\\__init__.py:36: FutureWarning: Conversion of the second argument of issubdtype from `float` to `np.floating` is deprecated. In future, it will be treated as `np.float64 == np.dtype(float).type`.\n",
      "  from ._conv import register_converters as _register_converters\n"
     ]
    }
   ],
   "source": [
    "import tensorflow as tf\n",
    "keras = tf.keras"
   ]
  },
  {
   "cell_type": "code",
   "execution_count": 2,
   "metadata": {},
   "outputs": [],
   "source": [
    "Input = keras.layers.Input\n",
    "BatchNormalization = keras.layers.BatchNormalization\n",
    "Conv2D = keras.layers.Conv2D\n",
    "UpSampling2D = keras.layers.UpSampling2D\n",
    "Add = keras.layers.Add\n",
    "Model = keras.models.Model"
   ]
  },
  {
   "cell_type": "code",
   "execution_count": 3,
   "metadata": {},
   "outputs": [],
   "source": [
    "input_layer = Input(shape=(224, 224, 3))"
   ]
  },
  {
   "cell_type": "code",
   "execution_count": 4,
   "metadata": {},
   "outputs": [],
   "source": [
    "vgg16 = keras.applications.vgg16.VGG16(include_top=False,\n",
    "                                       weights='imagenet',\n",
    "                                       input_shape=(224, 224, 3),\n",
    "                                       pooling=None, \n",
    "                                       input_tensor=input_layer)\n",
    "layers = {layer.name: layer for layer in vgg16.layers}"
   ]
  },
  {
   "cell_type": "code",
   "execution_count": 5,
   "metadata": {},
   "outputs": [],
   "source": [
    "block5_bn = BatchNormalization()(layers['block5_pool'].output)\n",
    "block5_bn_conv = Conv2D(filters=512, kernel_size=1, activation='relu', padding='same')(block5_bn)\n",
    "block5_up = UpSampling2D(size=(2, 2))(block5_bn_conv)\n",
    "\n",
    "block4_bn = BatchNormalization()(layers['block4_pool'].output)\n",
    "block45_add = Add()([block4_bn, block5_up])\n",
    "block45_add_conv = Conv2D(filters=256, kernel_size=3, activation='relu', padding='same')(block45_add)\n",
    "block45_up = UpSampling2D(size=(2, 2))(block45_add_conv)\n",
    "\n",
    "block3_bn = BatchNormalization()(layers['block3_pool'].output)\n",
    "block34_add = Add()([block3_bn, block45_up])\n",
    "block34_add_conv = Conv2D(filters=128, kernel_size=3, activation='relu', padding='same')(block34_add)\n",
    "block34_up = UpSampling2D(size=(2, 2))(block34_add_conv)\n",
    "\n",
    "block2_bn = BatchNormalization()(layers['block2_pool'].output)\n",
    "block23_add = Add()([block2_bn, block34_up])\n",
    "block23_add_conv = Conv2D(filters=64, kernel_size=3, activation='relu', padding='same')(block23_add)\n",
    "block23_up = UpSampling2D(size=(2, 2))(block23_add_conv)\n",
    "\n",
    "block1_bn = BatchNormalization()(layers['block1_pool'].output)\n",
    "block12_add = Add()([block1_bn, block23_up])\n",
    "block12_add_conv = Conv2D(filters=3, kernel_size=3, activation='relu', padding='same')(block12_add)\n",
    "\n",
    "block12_up = UpSampling2D(size=(2, 2))(block12_add_conv)\n",
    "output = Conv2D(filters=3, kernel_size=3, activation='sigmoid', padding='same')(block12_up)"
   ]
  },
  {
   "cell_type": "code",
   "execution_count": 17,
   "metadata": {},
   "outputs": [],
   "source": [
    "generator = Model(inputs=input_layer, outputs=output)\n",
    "all_layers = {layer.name: layer for layer in generator.layers}\n",
    "for name, layer in layers.items():\n",
    "    all_layers[name].trainable = False"
   ]
  }
 ],
 "metadata": {
  "kernelspec": {
   "display_name": "Python 3",
   "language": "python",
   "name": "python3"
  },
  "language_info": {
   "codemirror_mode": {
    "name": "ipython",
    "version": 3
   },
   "file_extension": ".py",
   "mimetype": "text/x-python",
   "name": "python",
   "nbconvert_exporter": "python",
   "pygments_lexer": "ipython3",
   "version": "3.6.3"
  }
 },
 "nbformat": 4,
 "nbformat_minor": 2
}
