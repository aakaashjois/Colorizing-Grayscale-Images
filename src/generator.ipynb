{
 "cells": [
  {
   "cell_type": "markdown",
   "metadata": {},
   "source": [
    "### Import statements"
   ]
  },
  {
   "cell_type": "code",
   "execution_count": 1,
   "metadata": {
    "scrolled": false
   },
   "outputs": [
    {
     "name": "stderr",
     "output_type": "stream",
     "text": [
      "c:\\users\\aakaas~1\\docume~1\\nyu\\projects\\ufacgi~1\\env\\lib\\site-packages\\h5py\\__init__.py:36: FutureWarning: Conversion of the second argument of issubdtype from `float` to `np.floating` is deprecated. In future, it will be treated as `np.float64 == np.dtype(float).type`.\n",
      "  from ._conv import register_converters as _register_converters\n"
     ]
    },
    {
     "name": "stdout",
     "output_type": "stream",
     "text": [
      "WARNING:tensorflow:From c:\\users\\aakaas~1\\docume~1\\nyu\\projects\\ufacgi~1\\env\\lib\\site-packages\\tensorflow\\contrib\\learn\\python\\learn\\datasets\\base.py:198: retry (from tensorflow.contrib.learn.python.learn.datasets.base) is deprecated and will be removed in a future version.\n",
      "Instructions for updating:\n",
      "Use the retry module or similar alternatives.\n"
     ]
    }
   ],
   "source": [
    "import tensorflow as tf\n",
    "import tensorflow.contrib.eager as tfe\n",
    "tfe.enable_eager_execution()"
   ]
  },
  {
   "cell_type": "markdown",
   "metadata": {},
   "source": [
    "### Utility functions"
   ]
  },
  {
   "cell_type": "code",
   "execution_count": 2,
   "metadata": {},
   "outputs": [],
   "source": [
    "def get_conv2d(inputs, filters, name, kernel=3, strides=1, reuse=None, activation=tf.nn.leaky_relu):\n",
    "    # Return a Tensorflow conv2d layer customized with the specified parameters\n",
    "    return tf.layers.conv2d(inputs=inputs,\n",
    "                            filters=filters,\n",
    "                            kernel_size=kernel,\n",
    "                            strides=strides,\n",
    "                            padding='same',\n",
    "                            reuse=reuse,\n",
    "                            activation=activation,\n",
    "                            name=name)"
   ]
  },
  {
   "cell_type": "code",
   "execution_count": 3,
   "metadata": {},
   "outputs": [],
   "source": [
    "def get_dense(inputs, units, name):\n",
    "    # Return a Tensorflow dense layer customized with the specified parameters\n",
    "    return tf.layers.dense(inputs=inputs,\n",
    "                           units=units,\n",
    "                           activation=tf.nn.leaky_relu,\n",
    "                           name=name)"
   ]
  },
  {
   "cell_type": "code",
   "execution_count": 4,
   "metadata": {},
   "outputs": [],
   "source": [
    "def get_upsample(layer):\n",
    "    # Return a Tensorflow resize_images layer\n",
    "    [batch_size, height, width, channels] = layer.get_shape().as_list()\n",
    "    return tf.image.resize_images(layer,[height * 2, width * 2])"
   ]
  },
  {
   "cell_type": "markdown",
   "metadata": {},
   "source": [
    "### Generator model"
   ]
  },
  {
   "cell_type": "code",
   "execution_count": 5,
   "metadata": {},
   "outputs": [],
   "source": [
    "tf.reset_default_graph()\n",
    "\n",
    "h, w = 256, 256\n",
    "# img = tf.placeholder(dtype=tf.float32, shape=[None, h, w, 1])\n",
    "batch_size = 2\n",
    "img = tf.contrib.eager.Variable(tf.random_uniform(shape=[batch_size, h, w, 1]))\n",
    "img_scaled = tf.image.resize_images(img, [224, 224])\n",
    "\n",
    "# -----------------------------LOW-LEVEL FEATURES: FIXED-----------------------------\n",
    "fconv2d_11 = get_conv2d(inputs=img_scaled, filters=64, strides=2, reuse=None, name='l_conv2d_11')\n",
    "fconv2d_12 = get_conv2d(inputs=fconv2d_11, filters=128, name='l_conv2d_12')\n",
    "\n",
    "fconv2d_21 = get_conv2d(inputs=fconv2d_12, filters=128, strides=2, reuse=None, name='l_conv2d_21')\n",
    "fconv2d_22 = get_conv2d(inputs=fconv2d_21, filters=256, name='l_conv2d_22')\n",
    "\n",
    "fconv2d_31 = get_conv2d(inputs=fconv2d_22, filters=256, strides=2, reuse=None, name='l_conv2d_31')\n",
    "fconv2d_32 = get_conv2d(inputs=fconv2d_31, filters=512, name='l_conv2d_32')\n",
    "\n",
    "# -----------------------------GLOBAL FEATURE NETWORK-----------------------------\n",
    "gconv2d_1 = get_conv2d(inputs=fconv2d_32, filters=512, strides=2, reuse=None, name='g_conv2d_1')\n",
    "gconv2d_2 = get_conv2d(inputs=gconv2d_1, filters=512, name='g_conv2d_2')\n",
    "gconv2d_3 = get_conv2d(inputs=gconv2d_2, filters=512, strides=2, reuse=None, name='g_conv2d_3')\n",
    "gconv2d_4 = get_conv2d(inputs=gconv2d_3, filters=512, name='g_conv2d_4')\n",
    "g_flatten = tf.contrib.layers.flatten(gconv2d_4)\n",
    "gfc_1 = get_dense(inputs=g_flatten, units=1024, name='g_fc_1')\n",
    "gfc_2 = get_dense(inputs=gfc_1, units=512, name='g_fc_2')\n",
    "gfc_3 = get_dense(inputs=gfc_2, units=256, name='g_fc_3')\n",
    "gfc_reshape = tf.reshape(gfc_3, [batch_size, 1, 1, 256])\n",
    "\n",
    "# -----------------------------LOW-LEVEL FEATURES: VARIABLE-----------------------------\n",
    "vconv2d_11 = get_conv2d(inputs=img, filters=64, strides=2, reuse=True, name='l_conv2d_11')\n",
    "vconv2d_12 = get_conv2d(inputs=vconv2d_11, filters=128, reuse=True, name='l_conv2d_12')\n",
    "\n",
    "vconv2d_21 = get_conv2d(inputs=vconv2d_12, filters=128, strides=2, reuse=True, name='l_conv2d_21')\n",
    "vconv2d_22 = get_conv2d(inputs=vconv2d_21, filters=256, reuse=True, name='l_conv2d_22')\n",
    "\n",
    "vconv2d_31 = get_conv2d(inputs=vconv2d_22, filters=256, strides=2, reuse=True, name='l_conv2d_31')\n",
    "vconv2d_32 = get_conv2d(inputs=vconv2d_31, filters=512, reuse=True, name='l_conv2d_32')\n",
    "\n",
    "# -----------------------------MID-LEVEL FEATURE NETWORK-----------------------------\n",
    "mconv2d_1 = get_conv2d(inputs=vconv2d_32, filters=512, name='m_conv2d_1')\n",
    "mconv2d_2 = get_conv2d(inputs=mconv2d_1, filters=256, name='m_conv2d_2')\n",
    "\n",
    "# -----------------------------FUSION NETWORK-----------------------------\n",
    "fu_tiled = tf.tile(gfc_reshape, multiples=[1, int(h/8), int(w/8), 1])\n",
    "fu_concat = tf.concat([mconv2d_2, fu_tiled], axis=3, name='f_concat')\n",
    "fu_fusion = tf.layers.conv2d(fu_concat, filters=256, kernel_size=1, strides=1, activation=tf.sigmoid, name='fu_fusion')\n",
    "\n",
    "# -----------------------------COLORIZATION NETWORK-----------------------------\n",
    "\n",
    "cconv2d_1 = get_conv2d(inputs=fu_fusion, filters=128, name='c_conv2d_1')\n",
    "c_upsample_1 = get_upsample(layer=cconv2d_1)\n",
    "cconv2d_2 = get_conv2d(inputs=c_upsample_1, filters=64, name='c_conv2d_2')\n",
    "cconv2d_3 = get_conv2d(inputs=cconv2d_2, filters=64, name='c_conv2d_3')\n",
    "c_upsample_2 = get_upsample(layer=cconv2d_3)\n",
    "cconv2d_4 = get_conv2d(inputs=c_upsample_2, filters=32, name='c_conv2d_4')\n",
    "c_output = get_conv2d(inputs=cconv2d_4, filters=2, activation=tf.sigmoid, name='c_output')\n",
    "c_upsample_o = get_upsample(layer=c_output)"
   ]
  },
  {
   "cell_type": "code",
   "execution_count": 6,
   "metadata": {},
   "outputs": [],
   "source": [
    "# with tf.Session() as sess:\n",
    "#     tf.global_variables_initializer().run()\n",
    "#     file_writer = tf.summary.FileWriter('logs', sess.graph)"
   ]
  },
  {
   "cell_type": "code",
   "execution_count": null,
   "metadata": {},
   "outputs": [],
   "source": []
  }
 ],
 "metadata": {
  "kernelspec": {
   "display_name": "Python 3",
   "language": "python",
   "name": "python3"
  },
  "language_info": {
   "codemirror_mode": {
    "name": "ipython",
    "version": 3
   },
   "file_extension": ".py",
   "mimetype": "text/x-python",
   "name": "python",
   "nbconvert_exporter": "python",
   "pygments_lexer": "ipython3",
   "version": "3.6.3"
  }
 },
 "nbformat": 4,
 "nbformat_minor": 2
}
