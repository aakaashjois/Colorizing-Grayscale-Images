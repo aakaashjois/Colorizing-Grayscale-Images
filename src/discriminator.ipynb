{
 "cells": [
  {
   "cell_type": "code",
   "execution_count": 98,
   "metadata": {},
   "outputs": [],
   "source": [
    "import tensorflow as tf\n",
    "import tensorlayer as tl\n",
    "import numpy as np\n",
    "from tqdm import tqdm\n",
    "from PIL import Image\n",
    "import os"
   ]
  },
  {
   "cell_type": "markdown",
   "metadata": {},
   "source": [
    "Loading data"
   ]
  },
  {
   "cell_type": "code",
   "execution_count": 101,
   "metadata": {},
   "outputs": [],
   "source": [
    "def image_generator(folder, batch_size=1):\n",
    "    path = os.path.join('../data/', folder)\n",
    "    all_files = os.listdir(path)\n",
    "    file_indices = np.random.choice(len(all_files), batch_size)\n",
    "    to_return = []\n",
    "    for i in tqdm(file_indices):\n",
    "        rgb_img = Image.open(os.path.join('../data', folder, all_files[i]))\n",
    "        ycbcr_img = rgb_img.convert('YCbCr')\n",
    "        ycbcr_img = np.array(rgb_img.resize((224, 224), Image.LANCZOS))\n",
    "        to_return.append(ycbcr_img)\n",
    "    \n",
    "    return to_return\n",
    "\n",
    "def labels_generator(size, value=1):\n",
    "    return np.array([value]*size)\n",
    "\n",
    "def noise_generator(batch_size):\n",
    "    noises = []\n",
    "    for i in tqdm(range(batch_size)):\n",
    "        noises.append(np.random.normal(size=(224, 224, 3)))\n",
    "    \n",
    "    return noises"
   ]
  },
  {
   "cell_type": "markdown",
   "metadata": {},
   "source": [
    "Creating model and loading pre-trained weights"
   ]
  },
  {
   "cell_type": "code",
   "execution_count": 26,
   "metadata": {
    "collapsed": true
   },
   "outputs": [
    {
     "name": "stderr",
     "output_type": "stream",
     "text": [
      "[TL] InputLayer  vgg16/input: (?, 224, 224, 3)\n",
      "[TL] Conv2d vgg16/conv1_1: n_filter:64 filter_size:(3, 3) strides:(1, 1) pad:SAME act:relu\n",
      "[TL] Conv2d vgg16/conv1_2: n_filter:64 filter_size:(3, 3) strides:(1, 1) pad:SAME act:relu\n",
      "[TL] Conv2d vgg16/conv2_1: n_filter:128 filter_size:(3, 3) strides:(1, 1) pad:SAME act:relu\n",
      "[TL] Conv2d vgg16/conv2_2: n_filter:128 filter_size:(3, 3) strides:(1, 1) pad:SAME act:relu\n",
      "[TL] Conv2d vgg16/conv3_1: n_filter:256 filter_size:(3, 3) strides:(1, 1) pad:SAME act:relu\n",
      "[TL] Conv2d vgg16/conv3_2: n_filter:256 filter_size:(3, 3) strides:(1, 1) pad:SAME act:relu\n",
      "[TL] Conv2d vgg16/conv3_3: n_filter:256 filter_size:(3, 3) strides:(1, 1) pad:SAME act:relu\n",
      "[TL] Conv2d vgg16/conv4_1: n_filter:512 filter_size:(3, 3) strides:(1, 1) pad:SAME act:relu\n",
      "[TL] Conv2d vgg16/conv4_2: n_filter:512 filter_size:(3, 3) strides:(1, 1) pad:SAME act:relu\n",
      "[TL] Conv2d vgg16/conv4_3: n_filter:512 filter_size:(3, 3) strides:(1, 1) pad:SAME act:relu\n",
      "[TL] Conv2d vgg16/conv5_1: n_filter:512 filter_size:(3, 3) strides:(1, 1) pad:SAME act:relu\n",
      "[TL] Conv2d vgg16/conv5_2: n_filter:512 filter_size:(3, 3) strides:(1, 1) pad:SAME act:relu\n",
      "[TL] Conv2d vgg16/conv5_3: n_filter:512 filter_size:(3, 3) strides:(1, 1) pad:SAME act:relu\n",
      "[TL] FlattenLayer vgg16/flatten: 25088\n",
      "[TL] DenseLayer  vgg16/fc1_relu: 4096 relu\n",
      "[TL] DenseLayer  vgg16/fc2_relu: 4096 relu\n",
      "[TL] DenseLayer  vgg16/fc3_relu: 1000 identity\n",
      "[TL] DenseLayer  fc1: 256 leaky_relu\n",
      "[TL] DenseLayer  fc2: 1 leaky_relu\n"
     ]
    }
   ],
   "source": [
    "tf.reset_default_graph()\n",
    "x = tf.placeholder(tf.float32, [None, 224, 224, 3])\n",
    "x = tf.placeholder(tf.float32, [None, 1])\n",
    "vgg16 = tl.models.VGG16(x, end_with='fc3_relu', reuse=None)\n",
    "fc1 = tl.layers.DenseLayer(vgg16, n_units=256, act=tf.nn.leaky_relu, name='fc1')\n",
    "fc2 = tl.layers.DenseLayer(fc1, n_units=1, act=tf.nn.sigmoid, name='fc2')"
   ]
  },
  {
   "cell_type": "code",
   "execution_count": 28,
   "metadata": {
    "collapsed": true
   },
   "outputs": [
    {
     "name": "stdout",
     "output_type": "stream",
     "text": [
      "Loading params (3, 3, 3, 64)\n",
      "Loading params (64,)\n",
      "Loading params (3, 3, 64, 64)\n",
      "Loading params (64,)\n",
      "Loading params (3, 3, 64, 128)\n",
      "Loading params (128,)\n",
      "Loading params (3, 3, 128, 128)\n",
      "Loading params (128,)\n",
      "Loading params (3, 3, 128, 256)\n",
      "Loading params (256,)\n",
      "Loading params (3, 3, 256, 256)\n",
      "Loading params (256,)\n",
      "Loading params (3, 3, 256, 256)\n",
      "Loading params (256,)\n",
      "Loading params (3, 3, 256, 512)\n",
      "Loading params (512,)\n",
      "Loading params (3, 3, 512, 512)\n",
      "Loading params (512,)\n",
      "Loading params (3, 3, 512, 512)\n",
      "Loading params (512,)\n",
      "Loading params (3, 3, 512, 512)\n",
      "Loading params (512,)\n",
      "Loading params (3, 3, 512, 512)\n",
      "Loading params (512,)\n",
      "Loading params (3, 3, 512, 512)\n",
      "Loading params (512,)\n",
      "Loading params (25088, 4096)\n",
      "Loading params (4096,)\n",
      "Loading params (4096, 4096)\n",
      "Loading params (4096,)\n",
      "Loading params (4096, 1000)\n",
      "Loading params (1000,)\n"
     ]
    }
   ],
   "source": [
    "npz = np.load('vgg16_weights.npz')\n",
    "params = []\n",
    "for val in sorted(npz.items()):\n",
    "    print(\"Loading params {}\".format(str(val[1].shape)))\n",
    "    params.append(val[1])\n",
    "\n",
    "ops = []\n",
    "for idx, param in enumerate(params):\n",
    "    ops.append(vgg16.all_params[idx].assign(param))\n",
    "\n",
    "del params"
   ]
  },
  {
   "cell_type": "code",
   "execution_count": 102,
   "metadata": {
    "collapsed": true
   },
   "outputs": [
    {
     "name": "stderr",
     "output_type": "stream",
     "text": [
      "\n",
      "  0%|          | 0/2048 [00:00<?, ?it/s]\u001b[A\n",
      "  1%|          | 12/2048 [00:00<00:17, 118.42it/s]\u001b[A\n",
      "  1%|          | 24/2048 [00:00<00:17, 117.70it/s]\u001b[A\n",
      "  2%|▏         | 36/2048 [00:00<00:17, 117.17it/s]\u001b[A\n",
      "  2%|▏         | 48/2048 [00:00<00:17, 116.03it/s]\u001b[A\n",
      "  3%|▎         | 60/2048 [00:00<00:17, 116.20it/s]\u001b[A\n",
      "  4%|▎         | 72/2048 [00:00<00:16, 116.38it/s]\u001b[A\n",
      "  4%|▍         | 84/2048 [00:00<00:16, 116.50it/s]\u001b[A\n",
      "  5%|▍         | 96/2048 [00:00<00:16, 116.63it/s]\u001b[A\n",
      "  5%|▌         | 108/2048 [00:00<00:16, 116.67it/s]\u001b[A\n",
      "  6%|▌         | 120/2048 [00:01<00:16, 116.43it/s]\u001b[A\n",
      "  6%|▋         | 132/2048 [00:01<00:16, 116.49it/s]\u001b[A\n",
      "  7%|▋         | 144/2048 [00:01<00:16, 116.56it/s]\u001b[A\n",
      "  8%|▊         | 156/2048 [00:01<00:16, 116.62it/s]\u001b[A\n",
      "  8%|▊         | 168/2048 [00:01<00:16, 116.68it/s]\u001b[A\n",
      "  9%|▉         | 180/2048 [00:01<00:16, 116.57it/s]\u001b[A\n",
      "  9%|▉         | 192/2048 [00:01<00:15, 116.38it/s]\u001b[A\n",
      " 10%|▉         | 204/2048 [00:01<00:15, 116.38it/s]\u001b[A\n",
      " 11%|█         | 216/2048 [00:01<00:15, 116.43it/s]\u001b[A\n",
      " 11%|█         | 228/2048 [00:01<00:15, 116.45it/s]\u001b[A\n",
      " 12%|█▏        | 240/2048 [00:02<00:15, 116.50it/s]\u001b[A\n",
      " 12%|█▏        | 252/2048 [00:02<00:15, 116.55it/s]\u001b[A\n",
      " 13%|█▎        | 264/2048 [00:02<00:15, 116.55it/s]\u001b[A\n",
      " 13%|█▎        | 276/2048 [00:02<00:15, 116.56it/s]\u001b[A\n",
      " 14%|█▍        | 288/2048 [00:02<00:15, 116.46it/s]\u001b[A\n",
      " 15%|█▍        | 300/2048 [00:02<00:15, 116.38it/s]\u001b[A\n",
      " 15%|█▌        | 312/2048 [00:02<00:14, 116.41it/s]\u001b[A\n",
      " 16%|█▌        | 324/2048 [00:02<00:14, 116.31it/s]\u001b[A\n",
      " 16%|█▋        | 336/2048 [00:02<00:14, 116.24it/s]\u001b[A\n",
      " 17%|█▋        | 348/2048 [00:02<00:14, 116.15it/s]\u001b[A\n",
      " 18%|█▊        | 360/2048 [00:03<00:14, 116.08it/s]\u001b[A\n",
      " 18%|█▊        | 372/2048 [00:03<00:14, 116.10it/s]\u001b[A\n",
      " 19%|█▉        | 384/2048 [00:03<00:14, 116.03it/s]\u001b[A\n",
      " 19%|█▉        | 396/2048 [00:03<00:14, 116.05it/s]\u001b[A\n",
      " 20%|█▉        | 408/2048 [00:03<00:14, 116.08it/s]\u001b[A\n",
      " 21%|██        | 420/2048 [00:03<00:14, 116.02it/s]\u001b[A\n",
      " 21%|██        | 432/2048 [00:03<00:13, 116.04it/s]\u001b[A\n",
      " 22%|██▏       | 444/2048 [00:03<00:13, 115.97it/s]\u001b[A\n",
      " 22%|██▏       | 456/2048 [00:03<00:13, 115.92it/s]\u001b[A\n",
      " 23%|██▎       | 468/2048 [00:04<00:13, 115.89it/s]\u001b[A\n",
      " 23%|██▎       | 480/2048 [00:04<00:13, 115.85it/s]\u001b[A\n",
      " 24%|██▍       | 492/2048 [00:04<00:13, 115.79it/s]\u001b[A\n",
      " 25%|██▍       | 504/2048 [00:04<00:13, 115.76it/s]\u001b[A\n",
      " 25%|██▌       | 516/2048 [00:04<00:13, 115.72it/s]\u001b[A\n",
      " 26%|██▌       | 528/2048 [00:04<00:13, 115.75it/s]\u001b[A\n",
      " 26%|██▋       | 540/2048 [00:04<00:13, 115.75it/s]\u001b[A\n",
      " 27%|██▋       | 552/2048 [00:04<00:12, 115.72it/s]\u001b[A\n",
      " 28%|██▊       | 564/2048 [00:04<00:12, 115.70it/s]\u001b[A\n",
      " 28%|██▊       | 576/2048 [00:04<00:12, 115.73it/s]\u001b[A\n",
      " 29%|██▊       | 588/2048 [00:05<00:12, 115.70it/s]\u001b[A\n",
      " 29%|██▉       | 600/2048 [00:05<00:12, 115.66it/s]\u001b[A\n",
      " 30%|██▉       | 612/2048 [00:05<00:12, 115.69it/s]\u001b[A\n",
      " 30%|███       | 624/2048 [00:05<00:12, 115.67it/s]\u001b[A\n",
      " 31%|███       | 636/2048 [00:05<00:12, 115.65it/s]\u001b[A\n",
      " 32%|███▏      | 648/2048 [00:05<00:12, 115.63it/s]\u001b[A\n",
      " 32%|███▏      | 660/2048 [00:05<00:12, 115.60it/s]\u001b[A\n",
      " 33%|███▎      | 672/2048 [00:05<00:11, 115.63it/s]\u001b[A\n",
      " 33%|███▎      | 684/2048 [00:05<00:11, 115.61it/s]\u001b[A\n",
      " 34%|███▍      | 696/2048 [00:06<00:11, 115.58it/s]\u001b[A\n",
      " 35%|███▍      | 708/2048 [00:06<00:11, 115.56it/s]\u001b[A\n",
      " 35%|███▌      | 720/2048 [00:06<00:11, 115.53it/s]\u001b[A\n",
      " 36%|███▌      | 732/2048 [00:06<00:11, 115.52it/s]\u001b[A\n",
      " 36%|███▋      | 744/2048 [00:06<00:11, 115.55it/s]\u001b[A\n",
      " 37%|███▋      | 756/2048 [00:06<00:11, 115.54it/s]\u001b[A\n",
      " 38%|███▊      | 768/2048 [00:06<00:11, 115.56it/s]\u001b[A\n",
      " 38%|███▊      | 780/2048 [00:06<00:10, 115.59it/s]\u001b[A\n",
      " 39%|███▊      | 792/2048 [00:06<00:10, 115.57it/s]\u001b[A\n",
      " 39%|███▉      | 804/2048 [00:06<00:10, 115.59it/s]\u001b[A\n",
      " 40%|███▉      | 816/2048 [00:07<00:10, 115.62it/s]\u001b[A\n",
      " 40%|████      | 828/2048 [00:07<00:10, 115.60it/s]\u001b[A\n",
      " 41%|████      | 840/2048 [00:07<00:10, 115.62it/s]\u001b[A\n",
      " 42%|████▏     | 852/2048 [00:07<00:10, 115.65it/s]\u001b[A\n",
      " 42%|████▏     | 864/2048 [00:07<00:10, 115.67it/s]\u001b[A\n",
      " 43%|████▎     | 876/2048 [00:07<00:10, 115.69it/s]\u001b[A\n",
      " 43%|████▎     | 888/2048 [00:07<00:10, 115.71it/s]\u001b[A\n",
      " 44%|████▍     | 900/2048 [00:07<00:09, 115.73it/s]\u001b[A\n",
      " 45%|████▍     | 912/2048 [00:07<00:09, 115.71it/s]\u001b[A\n",
      " 45%|████▌     | 924/2048 [00:07<00:09, 115.70it/s]\u001b[A\n",
      " 46%|████▌     | 936/2048 [00:08<00:09, 115.68it/s]\u001b[A\n",
      " 46%|████▋     | 948/2048 [00:08<00:09, 115.67it/s]\u001b[A\n",
      " 47%|████▋     | 960/2048 [00:08<00:09, 115.66it/s]\u001b[A\n",
      " 47%|████▋     | 972/2048 [00:08<00:09, 115.65it/s]\u001b[A\n",
      " 48%|████▊     | 984/2048 [00:08<00:09, 115.63it/s]\u001b[A\n",
      " 49%|████▊     | 996/2048 [00:08<00:09, 115.65it/s]\u001b[A\n",
      " 49%|████▉     | 1008/2048 [00:08<00:08, 115.67it/s]\u001b[A\n",
      " 50%|████▉     | 1020/2048 [00:08<00:08, 115.69it/s]\u001b[A\n",
      " 50%|█████     | 1032/2048 [00:08<00:08, 115.70it/s]\u001b[A\n",
      " 51%|█████     | 1044/2048 [00:09<00:08, 115.72it/s]\u001b[A\n",
      " 52%|█████▏    | 1056/2048 [00:09<00:08, 115.74it/s]\u001b[A\n",
      " 52%|█████▏    | 1068/2048 [00:09<00:08, 115.75it/s]\u001b[A\n",
      " 53%|█████▎    | 1080/2048 [00:09<00:08, 115.74it/s]\u001b[A\n",
      " 53%|█████▎    | 1092/2048 [00:09<00:08, 115.73it/s]\u001b[A\n",
      " 54%|█████▍    | 1104/2048 [00:09<00:08, 115.72it/s]\u001b[A\n",
      " 54%|█████▍    | 1116/2048 [00:09<00:08, 115.71it/s]\u001b[A\n",
      " 55%|█████▌    | 1128/2048 [00:09<00:07, 115.70it/s]\u001b[A\n",
      " 56%|█████▌    | 1140/2048 [00:09<00:07, 115.69it/s]\u001b[A\n",
      " 56%|█████▋    | 1152/2048 [00:09<00:07, 115.68it/s]\u001b[A\n",
      " 57%|█████▋    | 1164/2048 [00:10<00:07, 115.67it/s]\u001b[A\n",
      " 57%|█████▋    | 1176/2048 [00:10<00:07, 115.66it/s]\u001b[A\n",
      " 58%|█████▊    | 1188/2048 [00:10<00:07, 115.66it/s]\u001b[A\n",
      " 59%|█████▊    | 1200/2048 [00:10<00:07, 115.68it/s]\u001b[A\n",
      " 59%|█████▉    | 1212/2048 [00:10<00:07, 115.70it/s]\u001b[A\n",
      " 60%|█████▉    | 1224/2048 [00:10<00:07, 115.72it/s]\u001b[A\n",
      " 60%|██████    | 1236/2048 [00:10<00:07, 115.74it/s]\u001b[A\n",
      " 61%|██████    | 1248/2048 [00:10<00:06, 115.75it/s]\u001b[A\n",
      " 62%|██████▏   | 1260/2048 [00:10<00:06, 115.77it/s]\u001b[A\n",
      " 62%|██████▏   | 1272/2048 [00:10<00:06, 115.78it/s]\u001b[A\n",
      " 63%|██████▎   | 1284/2048 [00:11<00:06, 115.79it/s]\u001b[A\n",
      " 63%|██████▎   | 1296/2048 [00:11<00:06, 115.81it/s]\u001b[A\n",
      " 64%|██████▍   | 1308/2048 [00:11<00:06, 115.82it/s]\u001b[A\n",
      " 64%|██████▍   | 1320/2048 [00:11<00:06, 115.84it/s]\u001b[A\n",
      " 65%|██████▌   | 1332/2048 [00:11<00:06, 115.85it/s]\u001b[A\n",
      " 66%|██████▌   | 1344/2048 [00:11<00:06, 115.87it/s]\u001b[A\n",
      " 66%|██████▌   | 1356/2048 [00:11<00:05, 115.88it/s]\u001b[A\n",
      " 67%|██████▋   | 1368/2048 [00:11<00:05, 115.89it/s]\u001b[A\n",
      " 67%|██████▋   | 1380/2048 [00:11<00:05, 115.90it/s]\u001b[A\n",
      " 68%|██████▊   | 1392/2048 [00:12<00:05, 115.92it/s]\u001b[A\n",
      " 69%|██████▊   | 1404/2048 [00:12<00:05, 115.94it/s]\u001b[A\n",
      " 69%|██████▉   | 1416/2048 [00:12<00:05, 115.95it/s]\u001b[A\n",
      " 70%|██████▉   | 1428/2048 [00:12<00:05, 115.96it/s]\u001b[A\n",
      " 70%|███████   | 1440/2048 [00:12<00:05, 115.97it/s]\u001b[A\n",
      " 71%|███████   | 1452/2048 [00:12<00:05, 115.98it/s]\u001b[A\n",
      " 71%|███████▏  | 1464/2048 [00:12<00:05, 115.99it/s]\u001b[A\n",
      " 72%|███████▏  | 1476/2048 [00:12<00:04, 116.00it/s]\u001b[A\n",
      " 73%|███████▎  | 1488/2048 [00:12<00:04, 116.01it/s]\u001b[A\n",
      " 73%|███████▎  | 1500/2048 [00:12<00:04, 116.02it/s]\u001b[A\n",
      " 74%|███████▍  | 1512/2048 [00:13<00:04, 116.04it/s]\u001b[A\n",
      " 74%|███████▍  | 1524/2048 [00:13<00:04, 116.05it/s]\u001b[A\n",
      " 75%|███████▌  | 1536/2048 [00:13<00:04, 116.05it/s]\u001b[A\n",
      " 76%|███████▌  | 1548/2048 [00:13<00:04, 116.06it/s]\u001b[A\n",
      " 76%|███████▌  | 1560/2048 [00:13<00:04, 116.08it/s]\u001b[A\n",
      " 77%|███████▋  | 1572/2048 [00:13<00:04, 116.08it/s]\u001b[A\n",
      " 77%|███████▋  | 1584/2048 [00:13<00:03, 116.09it/s]\u001b[A\n",
      " 78%|███████▊  | 1596/2048 [00:13<00:03, 116.11it/s]\u001b[A\n",
      " 79%|███████▊  | 1608/2048 [00:13<00:03, 116.11it/s]\u001b[A\n",
      " 79%|███████▉  | 1620/2048 [00:13<00:03, 116.10it/s]\u001b[A\n",
      " 80%|███████▉  | 1632/2048 [00:14<00:03, 116.11it/s]\u001b[A\n",
      " 80%|████████  | 1644/2048 [00:14<00:03, 116.12it/s]\u001b[A\n",
      " 81%|████████  | 1656/2048 [00:14<00:03, 116.12it/s]\u001b[A\n",
      " 81%|████████▏ | 1668/2048 [00:14<00:03, 116.13it/s]\u001b[A\n",
      " 82%|████████▏ | 1680/2048 [00:14<00:03, 116.13it/s]\u001b[A\n",
      " 83%|████████▎ | 1692/2048 [00:14<00:03, 116.14it/s]\u001b[A\n",
      " 83%|████████▎ | 1704/2048 [00:14<00:02, 116.15it/s]\u001b[A\n",
      " 84%|████████▍ | 1716/2048 [00:14<00:02, 116.16it/s]\u001b[A\n",
      " 84%|████████▍ | 1728/2048 [00:14<00:02, 116.17it/s]\u001b[A\n",
      " 85%|████████▍ | 1740/2048 [00:14<00:02, 116.18it/s]\u001b[A\n",
      " 86%|████████▌ | 1752/2048 [00:15<00:02, 116.19it/s]\u001b[A\n",
      " 86%|████████▌ | 1764/2048 [00:15<00:02, 116.19it/s]\u001b[A\n"
     ]
    },
    {
     "name": "stderr",
     "output_type": "stream",
     "text": [
      " 87%|████████▋ | 1776/2048 [00:15<00:02, 116.20it/s]\u001b[A\n",
      " 87%|████████▋ | 1788/2048 [00:15<00:02, 116.20it/s]\u001b[A\n",
      " 88%|████████▊ | 1800/2048 [00:15<00:02, 116.21it/s]\u001b[A\n",
      " 88%|████████▊ | 1812/2048 [00:15<00:02, 116.22it/s]\u001b[A\n",
      " 89%|████████▉ | 1824/2048 [00:15<00:01, 116.22it/s]\u001b[A\n",
      " 90%|████████▉ | 1836/2048 [00:15<00:01, 116.23it/s]\u001b[A\n",
      " 90%|█████████ | 1848/2048 [00:15<00:01, 116.24it/s]\u001b[A\n",
      " 91%|█████████ | 1860/2048 [00:16<00:01, 116.25it/s]\u001b[A\n",
      " 91%|█████████▏| 1872/2048 [00:16<00:01, 116.25it/s]\u001b[A\n",
      " 92%|█████████▏| 1884/2048 [00:16<00:01, 116.26it/s]\u001b[A\n",
      " 93%|█████████▎| 1896/2048 [00:16<00:01, 116.26it/s]\u001b[A\n",
      " 93%|█████████▎| 1908/2048 [00:16<00:01, 116.26it/s]\u001b[A\n",
      " 94%|█████████▍| 1920/2048 [00:16<00:01, 116.26it/s]\u001b[A\n",
      " 94%|█████████▍| 1932/2048 [00:16<00:00, 116.27it/s]\u001b[A\n",
      " 95%|█████████▍| 1944/2048 [00:16<00:00, 116.28it/s]\u001b[A\n",
      " 96%|█████████▌| 1956/2048 [00:16<00:00, 116.29it/s]\u001b[A\n",
      " 96%|█████████▌| 1968/2048 [00:16<00:00, 116.30it/s]\u001b[A\n",
      " 97%|█████████▋| 1980/2048 [00:17<00:00, 116.30it/s]\u001b[A\n",
      " 97%|█████████▋| 1992/2048 [00:17<00:00, 116.31it/s]\u001b[A\n",
      " 98%|█████████▊| 2004/2048 [00:17<00:00, 116.32it/s]\u001b[A\n",
      " 98%|█████████▊| 2016/2048 [00:17<00:00, 116.32it/s]\u001b[A\n",
      " 99%|█████████▉| 2028/2048 [00:17<00:00, 116.33it/s]\u001b[A\n",
      "100%|█████████▉| 2040/2048 [00:17<00:00, 116.34it/s]\u001b[A\n",
      "100%|██████████| 2048/2048 [00:17<00:00, 116.34it/s]\u001b[A"
     ]
    }
   ],
   "source": [
    "# x_true = image_generator('train', 2048)\n",
    "x_false = noise_generator(2048)\n",
    "# y_true = labels_generator(2048)\n",
    "# y_false = labels_generator(2048, value=0)"
   ]
  },
  {
   "cell_type": "code",
   "execution_count": null,
   "metadata": {},
   "outputs": [],
   "source": [
    "cost = tf.reduce_mean(tf.nn.softmax_cross_entropy_with_logits(logits=pred, labels=y))\n",
    "optimizer = tf.train.AdamOptimizer(learning_rate=learning_rate).minimize(cost)"
   ]
  },
  {
   "cell_type": "code",
   "execution_count": 103,
   "metadata": {},
   "outputs": [
    {
     "ename": "ValueError",
     "evalue": "could not broadcast input array from shape (224,224,3) into shape (224,224)",
     "output_type": "error",
     "traceback": [
      "\u001b[0;31m---------------------------------------------------------------------------\u001b[0m",
      "\u001b[0;31mValueError\u001b[0m                                Traceback (most recent call last)",
      "\u001b[0;32m<ipython-input-103-217915aeb84f>\u001b[0m in \u001b[0;36m<module>\u001b[0;34m()\u001b[0m\n\u001b[0;32m----> 1\u001b[0;31m \u001b[0ma\u001b[0m \u001b[0;34m=\u001b[0m \u001b[0mnp\u001b[0m\u001b[0;34m.\u001b[0m\u001b[0mconcatenate\u001b[0m\u001b[0;34m(\u001b[0m\u001b[0;34m(\u001b[0m\u001b[0mx_true\u001b[0m\u001b[0;34m,\u001b[0m \u001b[0mx_false\u001b[0m\u001b[0;34m)\u001b[0m\u001b[0;34m,\u001b[0m \u001b[0maxis\u001b[0m\u001b[0;34m=\u001b[0m\u001b[0;36m0\u001b[0m\u001b[0;34m)\u001b[0m\u001b[0;34m\u001b[0m\u001b[0m\n\u001b[0m\u001b[1;32m      2\u001b[0m \u001b[0ma\u001b[0m\u001b[0;34m.\u001b[0m\u001b[0mshape\u001b[0m\u001b[0;34m\u001b[0m\u001b[0m\n",
      "\u001b[0;31mValueError\u001b[0m: could not broadcast input array from shape (224,224,3) into shape (224,224)"
     ]
    }
   ],
   "source": [
    "a = np.concatenate((x_true, x_false), axis=0)\n",
    "a.shape"
   ]
  },
  {
   "cell_type": "code",
   "execution_count": null,
   "metadata": {},
   "outputs": [],
   "source": [
    "with tf.Session as sess:\n",
    "    init = tf.global_variables_initializer()\n",
    "    sess.run(init)\n",
    "    for i in range(100):\n",
    "        x = np.random.shuffle(np.concatenate(x_true, x_false))\n",
    "    "
   ]
  },
  {
   "cell_type": "code",
   "execution_count": null,
   "metadata": {},
   "outputs": [],
   "source": [
    "tfgan = tf.contrib.gan"
   ]
  },
  {
   "cell_type": "code",
   "execution_count": null,
   "metadata": {},
   "outputs": [],
   "source": []
  }
 ],
 "metadata": {
  "kernelspec": {
   "display_name": "Python 3",
   "language": "python",
   "name": "python3"
  },
  "language_info": {
   "codemirror_mode": {
    "name": "ipython",
    "version": 3
   },
   "file_extension": ".py",
   "mimetype": "text/x-python",
   "name": "python",
   "nbconvert_exporter": "python",
   "pygments_lexer": "ipython3",
   "version": "3.6.3"
  }
 },
 "nbformat": 4,
 "nbformat_minor": 2
}
