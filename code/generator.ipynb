{
 "cells": [
  {
   "cell_type": "code",
   "execution_count": 2,
   "metadata": {},
   "outputs": [],
   "source": [
    "import tensorflow as tf"
   ]
  },
  {
   "cell_type": "code",
   "execution_count": 6,
   "metadata": {},
   "outputs": [],
   "source": [
    "def create_conv2d(inputs, filters, strides, reuse, name):\n",
    "    return tf.layers.conv2d(inputs=inputs,\n",
    "                           filters=filters,\n",
    "                           kernel_size=3,\n",
    "                           strides=strides,\n",
    "                           padding='same',\n",
    "                           reuse=reuse,\n",
    "                           name=name)"
   ]
  },
  {
   "cell_type": "code",
   "execution_count": 7,
   "metadata": {},
   "outputs": [],
   "source": [
    "def create_dense(inputs, units, name):\n",
    "    return tf.layers.dense(inputs=inputs,\n",
    "                           units=units,\n",
    "                           activation=tf.nn.leaky_relu,\n",
    "                           name=name)"
   ]
  },
  {
   "cell_type": "code",
   "execution_count": 8,
   "metadata": {},
   "outputs": [
    {
     "ename": "TypeError",
     "evalue": "create_conv2d() missing 1 required positional argument: 'reuse'",
     "output_type": "error",
     "traceback": [
      "\u001b[1;31m---------------------------------------------------------------------------\u001b[0m",
      "\u001b[1;31mTypeError\u001b[0m                                 Traceback (most recent call last)",
      "\u001b[1;32m<ipython-input-8-3ba8da1a7f28>\u001b[0m in \u001b[0;36m<module>\u001b[1;34m()\u001b[0m\n\u001b[0;32m     16\u001b[0m \u001b[1;33m\u001b[0m\u001b[0m\n\u001b[0;32m     17\u001b[0m \u001b[1;31m# -----------------------------GLOBAL FEATURE NETWORK-----------------------------\u001b[0m\u001b[1;33m\u001b[0m\u001b[1;33m\u001b[0m\u001b[0m\n\u001b[1;32m---> 18\u001b[1;33m \u001b[0mgconv2d_1\u001b[0m \u001b[1;33m=\u001b[0m \u001b[0mcreate_conv2d\u001b[0m\u001b[1;33m(\u001b[0m\u001b[0minputs\u001b[0m\u001b[1;33m=\u001b[0m\u001b[0mfconv2d_32\u001b[0m\u001b[1;33m,\u001b[0m \u001b[0mfilters\u001b[0m\u001b[1;33m=\u001b[0m\u001b[1;36m512\u001b[0m\u001b[1;33m,\u001b[0m \u001b[0mstrides\u001b[0m\u001b[1;33m=\u001b[0m\u001b[1;36m2\u001b[0m\u001b[1;33m,\u001b[0m \u001b[0mname\u001b[0m\u001b[1;33m=\u001b[0m\u001b[1;34m'gf_conv2d_1'\u001b[0m\u001b[1;33m)\u001b[0m\u001b[1;33m\u001b[0m\u001b[0m\n\u001b[0m\u001b[0;32m     19\u001b[0m \u001b[0mgconv2d_2\u001b[0m \u001b[1;33m=\u001b[0m \u001b[0mcreate_conv2d\u001b[0m\u001b[1;33m(\u001b[0m\u001b[0minputs\u001b[0m\u001b[1;33m=\u001b[0m\u001b[0mgconv2d_1\u001b[0m\u001b[1;33m,\u001b[0m \u001b[0mfilters\u001b[0m\u001b[1;33m=\u001b[0m\u001b[1;36m512\u001b[0m\u001b[1;33m,\u001b[0m \u001b[0mstrides\u001b[0m\u001b[1;33m=\u001b[0m\u001b[1;36m1\u001b[0m\u001b[1;33m,\u001b[0m \u001b[0mname\u001b[0m\u001b[1;33m=\u001b[0m\u001b[1;34m'gf_conv2d_2'\u001b[0m\u001b[1;33m)\u001b[0m\u001b[1;33m\u001b[0m\u001b[0m\n\u001b[0;32m     20\u001b[0m \u001b[0mgconv2d_3\u001b[0m \u001b[1;33m=\u001b[0m \u001b[0mcreate_conv2d\u001b[0m\u001b[1;33m(\u001b[0m\u001b[0minputs\u001b[0m\u001b[1;33m=\u001b[0m\u001b[0mgconv2d_2\u001b[0m\u001b[1;33m,\u001b[0m \u001b[0mfilters\u001b[0m\u001b[1;33m=\u001b[0m\u001b[1;36m512\u001b[0m\u001b[1;33m,\u001b[0m \u001b[0mstrides\u001b[0m\u001b[1;33m=\u001b[0m\u001b[1;36m2\u001b[0m\u001b[1;33m,\u001b[0m \u001b[0mname\u001b[0m\u001b[1;33m=\u001b[0m\u001b[1;34m'gf_conv2d_3'\u001b[0m\u001b[1;33m)\u001b[0m\u001b[1;33m\u001b[0m\u001b[0m\n",
      "\u001b[1;31mTypeError\u001b[0m: create_conv2d() missing 1 required positional argument: 'reuse'"
     ]
    }
   ],
   "source": [
    "tf.reset_default_graph()\n",
    "\n",
    "h, w = 128, 128\n",
    "img = tf.placeholder(dtype=tf.float32, shape=[None, h, w, 1])\n",
    "img_scaled = tf.placeholder(dtype=tf.float32, shape=[None, 112, 112, 1])\n",
    "\n",
    "# -----------------------------LOW-LEVEL FEATURES: FIXED-----------------------------\n",
    "fconv2d_11 = create_conv2d(inputs=img_scaled, filters=64, strides=2, reuse=None, name='lf_conv2d_11')\n",
    "fconv2d_12 = create_conv2d(inputs=fconv2d_11, filters=128, strides=1, reuse=None, name='lf_conv2d_12')\n",
    "\n",
    "fconv2d_21 = create_conv2d(inputs=fconv2d_12, filters=128, strides=2, reuse=None, name='lf_conv2d_21')\n",
    "fconv2d_22 = create_conv2d(inputs=fconv2d_21, filters=256, strides=1,  reuse=None, name='lf_conv2d_22')\n",
    "\n",
    "fconv2d_31 = create_conv2d(inputs=fconv2d_22, filters=256, strides=2, reuse=None, name='lf_conv2d_31')\n",
    "fconv2d_32 = create_conv2d(inputs=fconv2d_31, filters=512, strides=1, reuse=None, name='lf_conv2d_32')\n",
    "\n",
    "# -----------------------------GLOBAL FEATURE NETWORK-----------------------------\n",
    "gconv2d_1 = create_conv2d(inputs=fconv2d_32, filters=512, strides=2,  reuse=None,name='gf_conv2d_1')\n",
    "gconv2d_2 = create_conv2d(inputs=gconv2d_1, filters=512, strides=1, name='gf_conv2d_2')\n",
    "gconv2d_3 = create_conv2d(inputs=gconv2d_2, filters=512, strides=2, name='gf_conv2d_3')\n",
    "gconv2d_4 = create_conv2d(inputs=gconv2d_3, filters=512, strides=1, name='gf_conv2d_4')\n",
    "gfc_1 = create_dense(inputs=gconv2d_4, units=1024, activation=tf.nn.leaky_relu, name='gf_fc_1')\n",
    "gfc_2 = create_dense(inputs=gfc_1, units=512, activation=tf.nn.leaky_relu, name='gf_fc_2')\n",
    "gfc_3 = create_dense(inputs=gfc_2, units=256, activation=tf.nn.leaky_relu, name='gf_fc_3')\n",
    "\n",
    "# -----------------------------LOW-LEVEL FEATURES: VARIABLE-----------------------------\n",
    "vconv2d_11 = create_conv2d(inputs=img, filters=64, strides=2, reuse=True, name='lf_conv2d_11')\n",
    "vconv2d_12 = create_conv2d(inputs=vconv2d_11, filters=128, strides=1, reuse=True, name='lf_conv2d_12')\n",
    "\n",
    "vconv2d_21 = create_conv2d(inputs=vconv2d_12, filters=128, strides=2, reuse=True, name='lf_conv2d_21')\n",
    "vconv2d_22 = create_conv2d(inputs=vconv2d_21, filters=256, strides=1, reuse=True, name='lf_conv2d_22')\n",
    "\n",
    "vconv2d_31 = create_conv2d(inputs=vconv2d_22, filters=256, strides=2, reuse=True, name='lf_conv2d_31')\n",
    "vconv2d_32 = create_conv2d(inputs=vconv2d_31, filters=512, strides=1, reuse=True, name='lf_conv2d_32')\n",
    "\n",
    "# -----------------------------MID-LEVEL FEATURE NETWORK-----------------------------\n",
    "mconv2d_1 = create_conv2d(inputs=vconv2d_32, filters=512, strides=1, name='mf_conv2d_1')\n",
    "mconv2d_2 = create_conv2d(inputs=mconv2d_1, filters=256, strides=1, name='mf_conv2d_2')"
   ]
  },
  {
   "cell_type": "code",
   "execution_count": null,
   "metadata": {},
   "outputs": [],
   "source": [
    "with tf.Session() as sess:\n",
    "    tf.global_variables_initializer().run()\n",
    "    file_writer = tf.summary.FileWriter('', sess.graph)"
   ]
  }
 ],
 "metadata": {
  "kernelspec": {
   "display_name": "Python 3",
   "language": "python",
   "name": "python3"
  },
  "language_info": {
   "codemirror_mode": {
    "name": "ipython",
    "version": 3
   },
   "file_extension": ".py",
   "mimetype": "text/x-python",
   "name": "python",
   "nbconvert_exporter": "python",
   "pygments_lexer": "ipython3",
   "version": "3.6.3"
  }
 },
 "nbformat": 4,
 "nbformat_minor": 2
}
