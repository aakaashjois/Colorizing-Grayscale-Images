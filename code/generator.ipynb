{
 "cells": [
  {
   "cell_type": "code",
   "execution_count": 1,
   "metadata": {},
   "outputs": [
    {
     "name": "stderr",
     "output_type": "stream",
     "text": [
      "/Library/Frameworks/Python.framework/Versions/3.6/lib/python3.6/importlib/_bootstrap.py:205: RuntimeWarning: compiletime version 3.5 of module 'tensorflow.python.framework.fast_tensor_util' does not match runtime version 3.6\n",
      "  return f(*args, **kwds)\n"
     ]
    }
   ],
   "source": [
    "import tensorflow as tf"
   ]
  },
  {
   "cell_type": "code",
   "execution_count": 58,
   "metadata": {},
   "outputs": [],
   "source": [
    "tf.reset_default_graph()\n",
    "\n",
    "h, w = 128, 128\n",
    "img = tf.placeholder(dtype=tf.float32, shape=[None, h, w, 1])\n",
    "img_scaled = tf.placeholder(dtype=tf.float32, shape=[None, 112, 112, 1])\n",
    "\n",
    "# LOW-LEVEL FEATURES: FIXED\n",
    "fconv2d_11 = tf.layers.conv2d(inputs=img_scaled, filters=64, kernel_size=3, strides=2, activation=tf.nn.relu, padding='same', reuse=None, name='lf_conv2d_11')\n",
    "fconv2d_12 = tf.layers.conv2d(inputs=fconv2d_11, filters=128, kernel_size=3, strides=1, activation=tf.nn.relu, padding='same', reuse=None, name='lf_conv2d_12')\n",
    "\n",
    "fconv2d_21 = tf.layers.conv2d(inputs=fconv2d_12, filters=128, kernel_size=3, strides=2, activation=tf.nn.relu, padding='same', reuse=None, name='lf_conv2d_21')\n",
    "fconv2d_22 = tf.layers.conv2d(inputs=fconv2d_21, filters=256, kernel_size=3, strides=1, activation=tf.nn.relu, padding='same', reuse=None, name='lf_conv2d_22')\n",
    "\n",
    "fconv2d_31 = tf.layers.conv2d(inputs=fconv2d_22, filters=256, kernel_size=3, strides=2, activation=tf.nn.relu, padding='same', reuse=None, name='lf_conv2d_31')\n",
    "fconv2d_32 = tf.layers.conv2d(inputs=fconv2d_31, filters=512, kernel_size=3, strides=1, activation=tf.nn.relu, padding='same', reuse=None, name='lf_conv2d_32')\n",
    "\n",
    "# GLOBAL FEATURE NETWORK\n",
    "gconv2d_1 = tf.layers.conv2d(inputs=fconv2d_32, filters=512, kernel_size=3, strides=2, activation=tf.nn.relu, padding='same', name='gf_conv2d_1')\n",
    "gconv2d_2 = tf.layers.conv2d(inputs=gconv2d_1, filters=512, kernel_size=3, strides=1, activation=tf.nn.relu, padding='same', name='gf_conv2d_2')\n",
    "gconv2d_3 = tf.layers.conv2d(inputs=gconv2d_2, filters=512, kernel_size=3, strides=2, activation=tf.nn.relu, padding='same', name='gf_conv2d_3')\n",
    "gconv2d_4 = tf.layers.conv2d(inputs=gconv2d_3, filters=512, kernel_size=3, strides=1, activation=tf.nn.relu, padding='same', name='gf_conv2d_4')\n",
    "gfc_1 = tf.layers.dense(inputs=gconv2d_4, units=1024, activation=tf.nn.relu, name='gf_fc_1')\n",
    "gfc_2 = tf.layers.dense(inputs=gfc_1, units=512, activation=tf.nn.relu, name='gf_fc_2')\n",
    "gfc_3 = tf.layers.dense(inputs=gfc_2, units=256, activation=tf.nn.relu, name='gf_fc_3')\n",
    "\n",
    "# LOW-LEVEL FEATURES: VARIABLE\n",
    "vconv2d_11 = tf.layers.conv2d(inputs=img, filters=64, kernel_size=3, strides=2, activation=tf.nn.relu, padding='same', reuse=True, name='lf_conv2d_11')\n",
    "vconv2d_12 = tf.layers.conv2d(inputs=vconv2d_11, filters=128, kernel_size=3, strides=1, activation=tf.nn.relu, padding='same', reuse=True, name='lf_conv2d_12')\n",
    "\n",
    "vconv2d_21 = tf.layers.conv2d(inputs=vconv2d_12, filters=128, kernel_size=3, strides=2, activation=tf.nn.relu, padding='same', reuse=True, name='lf_conv2d_21')\n",
    "vconv2d_22 = tf.layers.conv2d(inputs=vconv2d_21, filters=256, kernel_size=3, strides=1, activation=tf.nn.relu, padding='same', reuse=True, name='lf_conv2d_22')\n",
    "\n",
    "vconv2d_31 = tf.layers.conv2d(inputs=vconv2d_22, filters=256, kernel_size=3, strides=2, activation=tf.nn.relu, padding='same', reuse=True, name='lf_conv2d_31')\n",
    "vconv2d_32 = tf.layers.conv2d(inputs=vconv2d_31, filters=512, kernel_size=3, strides=1, activation=tf.nn.relu, padding='same', reuse=True, name='lf_conv2d_32')\n",
    "\n",
    "# MID-LEVEL FEATURE NETWORK\n",
    "mconv2d_1 = tf.layers.conv2d(inputs=vconv2d_32, filters=512, kernel_size=3, strides=1, activation=tf.nn.relu, padding='same', name='mf_conv2d_1')\n",
    "mconv2d_2 = tf.layers.conv2d(inputs=mconv2d_1, filters=256, kernel_size=3, strides=1, activation=tf.nn.relu, padding='same', name='mf_conv2d_2')\n",
    "\n"
   ]
  },
  {
   "cell_type": "code",
   "execution_count": 59,
   "metadata": {},
   "outputs": [],
   "source": [
    "with tf.Session() as sess:\n",
    "    tf.global_variables_initializer().run()\n",
    "    file_writer = tf.summary.FileWriter('', sess.graph)"
   ]
  },
  {
   "cell_type": "code",
   "execution_count": null,
   "metadata": {},
   "outputs": [],
   "source": []
  }
 ],
 "metadata": {
  "kernelspec": {
   "display_name": "Python 3",
   "language": "python",
   "name": "python3"
  },
  "language_info": {
   "codemirror_mode": {
    "name": "ipython",
    "version": 3
   },
   "file_extension": ".py",
   "mimetype": "text/x-python",
   "name": "python",
   "nbconvert_exporter": "python",
   "pygments_lexer": "ipython3",
   "version": "3.6.2"
  }
 },
 "nbformat": 4,
 "nbformat_minor": 2
}
