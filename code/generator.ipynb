{
 "cells": [
  {
   "cell_type": "code",
   "execution_count": 1,
   "metadata": {},
   "outputs": [],
   "source": [
    "import tensorflow as tf\n",
    "# import tensorflow.contrib.eager as tfe\n",
    "# tfe.enable_eager_execution()"
   ]
  },
  {
   "cell_type": "code",
   "execution_count": 12,
   "metadata": {},
   "outputs": [],
   "source": [
    "def create_conv2d(inputs, filters, name, strides=1, reuse=None, activation=tf.nn.leaky_relu):\n",
    "    return tf.layers.conv2d(inputs=inputs,\n",
    "                            filters=filters,\n",
    "                            kernel_size=3,\n",
    "                            strides=strides,\n",
    "                            padding='same',\n",
    "                            reuse=reuse,\n",
    "                            activation=activation,\n",
    "                            name=name)"
   ]
  },
  {
   "cell_type": "code",
   "execution_count": 13,
   "metadata": {},
   "outputs": [],
   "source": [
    "def create_dense(inputs, units, name):\n",
    "    return tf.layers.dense(inputs=inputs,\n",
    "                           units=units,\n",
    "                           activation=tf.nn.leaky_relu,\n",
    "                           name=name)"
   ]
  },
  {
   "cell_type": "code",
   "execution_count": 14,
   "metadata": {},
   "outputs": [],
   "source": [
    "def create_upsample(layer):\n",
    "    [batch_size, height, width, channels] = layer.get_shape().as_list()\n",
    "    return tf.image.resize_images(layer,[height * 2, width * 2])"
   ]
  },
  {
   "cell_type": "code",
   "execution_count": 15,
   "metadata": {},
   "outputs": [],
   "source": [
    "tf.reset_default_graph()\n",
    "\n",
    "h, w = 128, 128\n",
    "img = tf.placeholder(dtype=tf.float32, shape=[None, h, w, 1])\n",
    "# img_scaled = tf.placeholder(dtype=tf.float32, shape=[None, 112, 112, 1])\n",
    "# batch_size = 2\n",
    "# img = tf.contrib.eager.Variable(tf.random_uniform(shape=[batch_size, h, w, 1]))\n",
    "img_scaled = tf.image.resize_images(img, [112, 112])\n",
    "\n",
    "# -----------------------------LOW-LEVEL FEATURES: FIXED-----------------------------\n",
    "fconv2d_11 = create_conv2d(inputs=img_scaled, filters=64, strides=2, reuse=None, name='l_conv2d_11')\n",
    "fconv2d_12 = create_conv2d(inputs=fconv2d_11, filters=128, name='l_conv2d_12')\n",
    "\n",
    "fconv2d_21 = create_conv2d(inputs=fconv2d_12, filters=128, strides=2, reuse=None, name='l_conv2d_21')\n",
    "fconv2d_22 = create_conv2d(inputs=fconv2d_21, filters=256, name='l_conv2d_22')\n",
    "\n",
    "fconv2d_31 = create_conv2d(inputs=fconv2d_22, filters=256, strides=2, reuse=None, name='l_conv2d_31')\n",
    "fconv2d_32 = create_conv2d(inputs=fconv2d_31, filters=512, name='l_conv2d_32')\n",
    "\n",
    "# -----------------------------GLOBAL FEATURE NETWORK-----------------------------\n",
    "gconv2d_1 = create_conv2d(inputs=fconv2d_32, filters=512, strides=2, reuse=None, name='g_conv2d_1')\n",
    "gconv2d_2 = create_conv2d(inputs=gconv2d_1, filters=512, name='g_conv2d_2')\n",
    "gconv2d_3 = create_conv2d(inputs=gconv2d_2, filters=512, strides=2, reuse=None, name='g_conv2d_3')\n",
    "gconv2d_4 = create_conv2d(inputs=gconv2d_3, filters=512, name='g_conv2d_4')\n",
    "\n",
    "gfc_1 = create_dense(inputs=gconv2d_4, units=1024, name='g_fc_1')\n",
    "gfc_2 = create_dense(inputs=gfc_1, units=512, name='g_fc_2')\n",
    "gfc_3 = create_dense(inputs=gfc_2, units=256, name='g_fc_3')\n",
    "\n",
    "# -----------------------------LOW-LEVEL FEATURES: VARIABLE-----------------------------\n",
    "vconv2d_11 = create_conv2d(inputs=img, filters=64, strides=2, reuse=True, name='l_conv2d_11')\n",
    "vconv2d_12 = create_conv2d(inputs=vconv2d_11, filters=128, reuse=True, name='l_conv2d_12')\n",
    "\n",
    "vconv2d_21 = create_conv2d(inputs=vconv2d_12, filters=128, strides=2, reuse=True, name='l_conv2d_21')\n",
    "vconv2d_22 = create_conv2d(inputs=vconv2d_21, filters=256, reuse=True, name='l_conv2d_22')\n",
    "\n",
    "vconv2d_31 = create_conv2d(inputs=vconv2d_22, filters=256, strides=2, reuse=True, name='l_conv2d_31')\n",
    "vconv2d_32 = create_conv2d(inputs=vconv2d_31, filters=512, reuse=True, name='l_conv2d_32')\n",
    "\n",
    "# -----------------------------MID-LEVEL FEATURE NETWORK-----------------------------\n",
    "mconv2d_1 = create_conv2d(inputs=vconv2d_32, filters=512, name='m_conv2d_1')\n",
    "mconv2d_2 = create_conv2d(inputs=mconv2d_1, filters=256, name='m_conv2d_2')\n",
    "\n",
    "# -----------------------------COLORIZATION NETWORK-----------------------------\n",
    "c_fusion = tf.concat([mconv2d_2, tf.tile(gfc_3, multiples=[1, 4, 4, 1])], axis=3, name='c_fusion')\n",
    "cconv2d_1 = create_conv2d(inputs=c_fusion, filters=128, name='c_conv2d_1')\n",
    "c_upsample_1 = create_upsample(layer=cconv2d_1)\n",
    "cconv2d_2 = create_conv2d(inputs=c_upsample_1, filters=64, name='c_conv2d_2')\n",
    "cconv2d_3 = create_conv2d(inputs=cconv2d_2, filters=64, name='c_conv2d_3')\n",
    "c_upsample_2 = create_upsample(layer=cconv2d_3)\n",
    "cconv2d_4 = create_conv2d(inputs=c_upsample_2, filters=32, name='c_conv2d_4')\n",
    "c_output = create_conv2d(inputs=cconv2d_4, filters=2, activation=tf.sigmoid, name='c_output')\n",
    "c_upsample_o = create_upsample(layer=c_output)"
   ]
  },
  {
   "cell_type": "code",
   "execution_count": 16,
   "metadata": {},
   "outputs": [],
   "source": [
    "with tf.Session() as sess:\n",
    "    tf.global_variables_initializer().run()\n",
    "    file_writer = tf.summary.FileWriter('logs', sess.graph)"
   ]
  }
 ],
 "metadata": {
  "kernelspec": {
   "display_name": "Python 3",
   "language": "python",
   "name": "python3"
  },
  "language_info": {
   "codemirror_mode": {
    "name": "ipython",
    "version": 3
   },
   "file_extension": ".py",
   "mimetype": "text/x-python",
   "name": "python",
   "nbconvert_exporter": "python",
   "pygments_lexer": "ipython3",
   "version": "3.6.3"
  }
 },
 "nbformat": 4,
 "nbformat_minor": 2
}
